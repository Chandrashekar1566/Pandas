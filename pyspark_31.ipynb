{
 "cells": [
  {
   "cell_type": "code",
   "execution_count": null,
   "id": "87bef0d4-b42c-43df-955a-bd16eb7df919",
   "metadata": {},
   "outputs": [],
   "source": []
  },
  {
   "cell_type": "code",
   "execution_count": null,
   "id": "05d3490b-73c0-4c9b-8268-afbad8b3c172",
   "metadata": {},
   "outputs": [],
   "source": []
  },
  {
   "cell_type": "code",
   "execution_count": 10,
   "id": "03e28305-0ed6-4d39-a86a-8fb7fe038995",
   "metadata": {},
   "outputs": [
    {
     "name": "stdout",
     "output_type": "stream",
     "text": [
      "+---+---+----+------+\n",
      "| id|Age|Name|Gender|\n",
      "+---+---+----+------+\n",
      "|  1| 24|Jhon|  male|\n",
      "|  2| 30|mufa|  male|\n",
      "|  2| 30|mufa|  male|\n",
      "|  3| 35|siri|female|\n",
      "+---+---+----+------+\n",
      "\n"
     ]
    }
   ],
   "source": [
    "from pyspark.sql import SparkSession\n",
    "\n",
    "# Create a SparkSession\n",
    "spark = SparkSession.builder \\\n",
    "    .appName(\"practice\") \\\n",
    "    .getOrCreate()\n",
    "\n",
    "# Sample data\n",
    "data = [(1, 24, 'Jhon', 'male'), (2, 30, 'mufa', 'male'),(2, 30, 'mufa', 'male'), (3, 35, 'siri', 'female')]\n",
    "schema = ['id', 'Age', 'Name', 'Gender']\n",
    "\n",
    "# Create DataFrame\n",
    "df = spark.createDataFrame(data, schema)\n",
    "\n",
    "# Show DataFrame\n",
    "df.show()\n"
   ]
  },
  {
   "cell_type": "code",
   "execution_count": 11,
   "id": "b929b68c-7c74-4a6e-b36d-e1c01f934b3e",
   "metadata": {},
   "outputs": [
    {
     "name": "stdout",
     "output_type": "stream",
     "text": [
      "+---+---+----+------+\n",
      "| id|Age|Name|Gender|\n",
      "+---+---+----+------+\n",
      "|  1| 24|Jhon|  male|\n",
      "|  2| 30|mufa|  male|\n",
      "|  3| 35|siri|female|\n",
      "+---+---+----+------+\n",
      "\n"
     ]
    }
   ],
   "source": [
    "df.distinct().show()"
   ]
  },
  {
   "cell_type": "code",
   "execution_count": 14,
   "id": "213053fa-ae8c-4e77-bffc-dff7c9561056",
   "metadata": {},
   "outputs": [
    {
     "name": "stdout",
     "output_type": "stream",
     "text": [
      "+---+---+----+------+\n",
      "| id|Age|Name|Gender|\n",
      "+---+---+----+------+\n",
      "|  3| 35|siri|female|\n",
      "|  1| 24|Jhon|  male|\n",
      "+---+---+----+------+\n",
      "\n"
     ]
    }
   ],
   "source": [
    "df.dropDuplicates(['Gender']).show()"
   ]
  },
  {
   "cell_type": "code",
   "execution_count": 18,
   "id": "649e3a85-2da6-4124-b3e5-367e85998a13",
   "metadata": {},
   "outputs": [
    {
     "name": "stdout",
     "output_type": "stream",
     "text": [
      "+---+-------+---+------+\n",
      "| id|   name|age|salary|\n",
      "+---+-------+---+------+\n",
      "|  1|  Alice| 25| 50000|\n",
      "|  4|  Diana| 40| 80000|\n",
      "|  5| Edward| 45| 90000|\n",
      "|  2|    Bob| 30| 60000|\n",
      "|  3|Charlie| 35| 70000|\n",
      "+---+-------+---+------+\n",
      "\n"
     ]
    }
   ],
   "source": [
    "data = [\n",
    "    (1, \"Alice\", 25, 50000),\n",
    "    \n",
    "    (4, \"Diana\", 40, 80000),\n",
    "    (5, \"Edward\", 45, 90000),\n",
    "     (2, \"Bob\", 30, 60000),\n",
    "    (3, \"Charlie\", 35, 70000)\n",
    "]\n",
    "columns = [\"id\", \"name\", \"age\", \"salary\"]\n",
    "\n",
    "df = spark.createDataFrame(data, schema=columns)\n",
    "\n",
    "df.show()\n"
   ]
  },
  {
   "cell_type": "code",
   "execution_count": 21,
   "id": "d9145b8c-9af9-4d45-b029-7765f4fac3c2",
   "metadata": {},
   "outputs": [
    {
     "name": "stdout",
     "output_type": "stream",
     "text": [
      "+---+-------+---+------+\n",
      "| id|   name|age|salary|\n",
      "+---+-------+---+------+\n",
      "|  1|  Alice| 25| 50000|\n",
      "|  2|    Bob| 30| 60000|\n",
      "|  3|Charlie| 35| 70000|\n",
      "|  4|  Diana| 40| 80000|\n",
      "|  5| Edward| 45| 90000|\n",
      "+---+-------+---+------+\n",
      "\n"
     ]
    }
   ],
   "source": [
    "df.sort('name').show()"
   ]
  },
  {
   "cell_type": "code",
   "execution_count": 22,
   "id": "4bdac94c-b446-482d-87a1-06a11f6addf6",
   "metadata": {},
   "outputs": [
    {
     "name": "stdout",
     "output_type": "stream",
     "text": [
      "+---+-------+---+------+\n",
      "| id|   name|age|salary|\n",
      "+---+-------+---+------+\n",
      "|  1|  Alice| 25| 50000|\n",
      "|  2|    Bob| 30| 60000|\n",
      "|  3|Charlie| 35| 70000|\n",
      "|  4|  Diana| 40| 80000|\n",
      "|  5| Edward| 45| 90000|\n",
      "+---+-------+---+------+\n",
      "\n"
     ]
    }
   ],
   "source": [
    "df.orderBy('name').show()\n"
   ]
  },
  {
   "cell_type": "code",
   "execution_count": 24,
   "id": "82d12b22-2af3-4b3d-bae5-46b4496c8d10",
   "metadata": {},
   "outputs": [
    {
     "name": "stdout",
     "output_type": "stream",
     "text": [
      "+---+-------+---+------+\n",
      "| id|   name|age|salary|\n",
      "+---+-------+---+------+\n",
      "|  5| Edward| 45| 90000|\n",
      "|  4|  Diana| 40| 80000|\n",
      "|  3|Charlie| 35| 70000|\n",
      "|  2|    Bob| 30| 60000|\n",
      "|  1|  Alice| 25| 50000|\n",
      "+---+-------+---+------+\n",
      "\n"
     ]
    }
   ],
   "source": [
    "from pyspark.sql.functions import col\n",
    "\n",
    "# Sorting by id in descending order\n",
    "df.sort(col(\"id\").desc()).show()\n"
   ]
  },
  {
   "cell_type": "code",
   "execution_count": 26,
   "id": "5f5e5095-34c3-430f-97ae-ae97ab85c4e3",
   "metadata": {},
   "outputs": [
    {
     "name": "stdout",
     "output_type": "stream",
     "text": [
      "+---+-------+---+------+\n",
      "| id|   name|age|salary|\n",
      "+---+-------+---+------+\n",
      "|  5| Edward| 45| 90000|\n",
      "|  4|  Diana| 40| 80000|\n",
      "|  3|Charlie| 35| 70000|\n",
      "|  2|    Bob| 30| 60000|\n",
      "|  1|  Alice| 25| 50000|\n",
      "+---+-------+---+------+\n",
      "\n"
     ]
    }
   ],
   "source": [
    "df.sort(df.salary.desc(),df.age.desc()).show()"
   ]
  },
  {
   "cell_type": "code",
   "execution_count": 43,
   "id": "33609472-2c50-4cc9-882a-213c8a913cc9",
   "metadata": {},
   "outputs": [
    {
     "name": "stdout",
     "output_type": "stream",
     "text": [
      "DataFrame 1:\n",
      "+---+-------+---+------+------+-----+\n",
      "| id|   name|age|salary|gender|  dep|\n",
      "+---+-------+---+------+------+-----+\n",
      "|  1|  Alice| 25| 50000|     M|   IT|\n",
      "|  2|    Bob| 30| 60000|     M|Sales|\n",
      "|  4|  Diana| 40| 80000|     F|   IT|\n",
      "|  3|Charlie| 35| 70000|     F|Sales|\n",
      "+---+-------+---+------+------+-----+\n",
      "\n",
      "DataFrame 2:\n",
      "+---+------+---+------+------+-------+\n",
      "| id|  name|age|salary|gender|    dep|\n",
      "+---+------+---+------+------+-------+\n",
      "|  4| Diana| 40| 80000|     F|storage|\n",
      "|  5|Edward| 45| 90000|     M|     IT|\n",
      "|  6| Frank| 50|100000|     M|storage|\n",
      "+---+------+---+------+------+-------+\n",
      "\n"
     ]
    }
   ],
   "source": [
    "#first dataframe\n",
    "data1 = [\n",
    "    (1, \"Alice\", 25, 50000,'M','IT'),\n",
    "    (2, \"Bob\", 30, 60000,'M','Sales'),\n",
    "    (4, \"Diana\", 40, 80000,'F','IT'),\n",
    "    (3, \"Charlie\", 35, 70000,'F','Sales')\n",
    "]\n",
    "\n",
    "# 2nd dataframe\n",
    "data2 = [\n",
    "    (4, \"Diana\", 40, 80000,'F','storage'),\n",
    "    (5, \"Edward\", 45, 90000,'M','IT'),\n",
    "    (6, \"Frank\", 50, 100000,'M','storage')\n",
    "]\n",
    "\n",
    "columns = [\"id\", \"name\", \"age\", \"salary\",\"gender\",\"dep\"]\n",
    "\n",
    "df1 = spark.createDataFrame(data1, schema=columns)\n",
    "\n",
    "df2 = spark.createDataFrame(data2, schema=columns)\n",
    "\n",
    "# Show the DataFrames\n",
    "print(\"DataFrame 1:\")\n",
    "df1.show()\n",
    "\n",
    "print(\"DataFrame 2:\")\n",
    "df2.show()\n"
   ]
  },
  {
   "cell_type": "code",
   "execution_count": 44,
   "id": "2716441a-44cb-4322-b210-81e1d67395e5",
   "metadata": {},
   "outputs": [],
   "source": [
    "newdf = df1.union(df2)"
   ]
  },
  {
   "cell_type": "code",
   "execution_count": 45,
   "id": "7310c193-1414-4857-9ef0-27acc8aa6f14",
   "metadata": {},
   "outputs": [
    {
     "name": "stdout",
     "output_type": "stream",
     "text": [
      "+---+-------+---+------+------+-------+\n",
      "| id|   name|age|salary|gender|    dep|\n",
      "+---+-------+---+------+------+-------+\n",
      "|  1|  Alice| 25| 50000|     M|     IT|\n",
      "|  2|    Bob| 30| 60000|     M|  Sales|\n",
      "|  4|  Diana| 40| 80000|     F|     IT|\n",
      "|  3|Charlie| 35| 70000|     F|  Sales|\n",
      "|  4|  Diana| 40| 80000|     F|storage|\n",
      "|  5| Edward| 45| 90000|     M|     IT|\n",
      "|  6|  Frank| 50|100000|     M|storage|\n",
      "+---+-------+---+------+------+-------+\n",
      "\n"
     ]
    }
   ],
   "source": [
    "newdf.show()"
   ]
  },
  {
   "cell_type": "code",
   "execution_count": 49,
   "id": "50105ed9-3f60-4af1-95e2-879f67b992a4",
   "metadata": {},
   "outputs": [
    {
     "name": "stdout",
     "output_type": "stream",
     "text": [
      "+-------+------+-----+\n",
      "|    dep|gender|count|\n",
      "+-------+------+-----+\n",
      "|     IT|     M|    2|\n",
      "|  Sales|     M|    1|\n",
      "|     IT|     F|    1|\n",
      "|  Sales|     F|    1|\n",
      "|storage|     F|    1|\n",
      "|storage|     M|    1|\n",
      "+-------+------+-----+\n",
      "\n"
     ]
    }
   ],
   "source": [
    "new=newdf.groupBy('dep','gender').count()\n",
    "new.show()"
   ]
  },
  {
   "cell_type": "code",
   "execution_count": 52,
   "id": "4a292364-f9ec-49f5-8ec9-6cd6913d327c",
   "metadata": {},
   "outputs": [],
   "source": [
    "data1 = [\n",
    "    (1, \"Alice\", 25, 50000,'M','IT'),\n",
    "    (2, \"Bob\", 30, 60000,'M','Sales'),\n",
    "    \n",
    "    (3, \"Charlie\", 35, 70000,'F','Sales'),\n",
    "    (4, \"Diana\", 40, 80000,'F','storage'),\n",
    "    (5, \"Edward\", 45, 90000,'M','IT'),\n",
    "    (6, \"Frank\", 50, 100000,'M','storage')]\n",
    "columns = [\"id\", \"name\", \"age\", \"salary\",\"gender\",\"dep\"]"
   ]
  },
  {
   "cell_type": "code",
   "execution_count": 53,
   "id": "b2b87e80-3f72-447c-840d-1494d3fdb3e1",
   "metadata": {},
   "outputs": [],
   "source": [
    "df= spark.createDataFrame(data1, schema=columns)"
   ]
  },
  {
   "cell_type": "code",
   "execution_count": 54,
   "id": "db182d51-d6c5-4be5-9312-4a84da8a7fd2",
   "metadata": {},
   "outputs": [
    {
     "name": "stdout",
     "output_type": "stream",
     "text": [
      "+---+-------+---+------+------+-------+\n",
      "| id|   name|age|salary|gender|    dep|\n",
      "+---+-------+---+------+------+-------+\n",
      "|  1|  Alice| 25| 50000|     M|     IT|\n",
      "|  2|    Bob| 30| 60000|     M|  Sales|\n",
      "|  3|Charlie| 35| 70000|     F|  Sales|\n",
      "|  4|  Diana| 40| 80000|     F|storage|\n",
      "|  5| Edward| 45| 90000|     M|     IT|\n",
      "|  6|  Frank| 50|100000|     M|storage|\n",
      "+---+-------+---+------+------+-------+\n",
      "\n"
     ]
    }
   ],
   "source": [
    "df.show()"
   ]
  },
  {
   "cell_type": "code",
   "execution_count": 62,
   "id": "81ab957f-d2c7-4db5-91e2-8cbc25b4caf1",
   "metadata": {},
   "outputs": [
    {
     "name": "stdout",
     "output_type": "stream",
     "text": [
      "+-------+-----+\n",
      "|    dep|count|\n",
      "+-------+-----+\n",
      "|     IT|    2|\n",
      "|  Sales|    2|\n",
      "|storage|    2|\n",
      "+-------+-----+\n",
      "\n"
     ]
    }
   ],
   "source": [
    "group_df=df.groupBy('dep').count()\n",
    "group_df.show()"
   ]
  },
  {
   "cell_type": "code",
   "execution_count": 64,
   "id": "fdc35f81-f7b8-4f80-bc4b-931357448b13",
   "metadata": {},
   "outputs": [
    {
     "name": "stdout",
     "output_type": "stream",
     "text": [
      "+------+-----+\n",
      "|gender|count|\n",
      "+------+-----+\n",
      "|     M|    4|\n",
      "|     F|    2|\n",
      "+------+-----+\n",
      "\n"
     ]
    }
   ],
   "source": [
    "group_df1 = df.groupBy('gender').count()\n",
    "group_df1.show()"
   ]
  },
  {
   "cell_type": "code",
   "execution_count": 66,
   "id": "9cbb1a1d-7248-4ea0-bdee-0d03f9940967",
   "metadata": {},
   "outputs": [
    {
     "name": "stdout",
     "output_type": "stream",
     "text": [
      "Employee DataFrame:\n",
      "+---+------+------+---+\n",
      "| id|  name|salary|dep|\n",
      "+---+------+------+---+\n",
      "|  1|maheer|  2000|  2|\n",
      "|  2|  wafa|  3000|  1|\n",
      "|  3|  abcd|  1000|  4|\n",
      "+---+------+------+---+\n",
      "\n",
      "Department DataFrame:\n",
      "+---+-------+\n",
      "| id|   name|\n",
      "+---+-------+\n",
      "|  1|     IT|\n",
      "|  2|     HR|\n",
      "|  3|Payroll|\n",
      "+---+-------+\n",
      "\n"
     ]
    }
   ],
   "source": [
    "#join\n",
    "datal = [\n",
    "    (1, 'maheer', 2000, 2),\n",
    "    (2, 'wafa', 3000, 1),\n",
    "    (3, 'abcd', 1000, 4)\n",
    "]\n",
    "schemal = ['id', 'name', 'salary', 'dep']\n",
    "\n",
    "# Data for the department DataFrame\n",
    "data2 = [\n",
    "    (1, 'IT'),\n",
    "    (2, 'HR'),\n",
    "    (3, 'Payroll')\n",
    "]\n",
    "schema2 = ['id', 'name']\n",
    "\n",
    "empDf = spark.createDataFrame(datal, schemal)\n",
    "depDf = spark.createDataFrame(data2, schema2)\n",
    "\n",
    "\n",
    "print(\"Employee DataFrame:\")\n",
    "empDf.show()\n",
    "\n",
    "print(\"Department DataFrame:\")\n",
    "depDf.show()\n"
   ]
  },
  {
   "cell_type": "code",
   "execution_count": 68,
   "id": "7a4c8284-7a2b-4fd3-9b5d-5e7973e830ff",
   "metadata": {},
   "outputs": [
    {
     "name": "stdout",
     "output_type": "stream",
     "text": [
      "+---+------+------+---+---+----+\n",
      "| id|  name|salary|dep| id|name|\n",
      "+---+------+------+---+---+----+\n",
      "|  2|  wafa|  3000|  1|  1|  IT|\n",
      "|  1|maheer|  2000|  2|  2|  HR|\n",
      "+---+------+------+---+---+----+\n",
      "\n"
     ]
    }
   ],
   "source": [
    "empDf.join(depDf,empDf.dep ==depDf.id,'inner').show()"
   ]
  },
  {
   "cell_type": "code",
   "execution_count": 71,
   "id": "cf72ddc0-f2cf-47ad-9d92-9c753ea73f37",
   "metadata": {},
   "outputs": [
    {
     "name": "stdout",
     "output_type": "stream",
     "text": [
      "+---+------+------+---+----+----+\n",
      "| id|  name|salary|dep|  id|name|\n",
      "+---+------+------+---+----+----+\n",
      "|  1|maheer|  2000|  2|   2|  HR|\n",
      "|  2|  wafa|  3000|  1|   1|  IT|\n",
      "|  3|  abcd|  1000|  4|NULL|NULL|\n",
      "+---+------+------+---+----+----+\n",
      "\n"
     ]
    }
   ],
   "source": [
    "empDf.join(depDf,empDf.dep ==depDf.id,'left').show()"
   ]
  },
  {
   "cell_type": "code",
   "execution_count": 72,
   "id": "85c1052d-ccae-4efa-8925-da7567aea20c",
   "metadata": {},
   "outputs": [
    {
     "name": "stdout",
     "output_type": "stream",
     "text": [
      "+----+------+------+----+---+-------+\n",
      "|  id|  name|salary| dep| id|   name|\n",
      "+----+------+------+----+---+-------+\n",
      "|   2|  wafa|  3000|   1|  1|     IT|\n",
      "|   1|maheer|  2000|   2|  2|     HR|\n",
      "|NULL|  NULL|  NULL|NULL|  3|Payroll|\n",
      "+----+------+------+----+---+-------+\n",
      "\n"
     ]
    }
   ],
   "source": [
    "empDf.join(depDf,empDf.dep ==depDf.id,'right').show()"
   ]
  },
  {
   "cell_type": "code",
   "execution_count": 73,
   "id": "f7e3e412-e2b5-475a-8e5c-863affbb8084",
   "metadata": {},
   "outputs": [
    {
     "name": "stdout",
     "output_type": "stream",
     "text": [
      "+----+------+------+----+----+-------+\n",
      "|  id|  name|salary| dep|  id|   name|\n",
      "+----+------+------+----+----+-------+\n",
      "|   2|  wafa|  3000|   1|   1|     IT|\n",
      "|   1|maheer|  2000|   2|   2|     HR|\n",
      "|NULL|  NULL|  NULL|NULL|   3|Payroll|\n",
      "|   3|  abcd|  1000|   4|NULL|   NULL|\n",
      "+----+------+------+----+----+-------+\n",
      "\n"
     ]
    }
   ],
   "source": [
    "empDf.join(depDf,empDf.dep ==depDf.id,'full').show()"
   ]
  },
  {
   "cell_type": "code",
   "execution_count": 74,
   "id": "338bd750-cf50-494c-b69b-5d8abe20fcf0",
   "metadata": {},
   "outputs": [
    {
     "name": "stdout",
     "output_type": "stream",
     "text": [
      "+---+--------+------+---+\n",
      "| id|    name|gender|dep|\n",
      "+---+--------+------+---+\n",
      "|  1|  maheer|  male| IT|\n",
      "|  2|    wafa|  male| IT|\n",
      "|  3|     asi|female| HR|\n",
      "|  4|    annu|female| IT|\n",
      "|  5|  shakti|female| IT|\n",
      "|  6| pradeep|  male| HR|\n",
      "|  7|sarfaraj|  male| HR|\n",
      "|  8|  ayesha|female| IT|\n",
      "+---+--------+------+---+\n",
      "\n"
     ]
    }
   ],
   "source": [
    "#pivot\n",
    "data = [\n",
    "    (1, 'maheer', 'male', 'IT'),\n",
    "    (2, 'wafa', 'male', 'IT'),\n",
    "    (3, 'asi', 'female', 'HR'),\n",
    "    (4, 'annu', 'female', 'IT'),\n",
    "    (5, 'shakti', 'female', 'IT'),\n",
    "    (6, 'pradeep', 'male', 'HR'),\n",
    "    (7, 'sarfaraj', 'male', 'HR'),\n",
    "    (8, 'ayesha', 'female', 'IT')\n",
    "]\n",
    "\n",
    "schema = ['id', 'name', 'gender', 'dep']\n",
    "\n",
    "df = spark.createDataFrame(data, schema)\n",
    "\n",
    "df.show()\n"
   ]
  },
  {
   "cell_type": "code",
   "execution_count": 76,
   "id": "fb6d73ab-4184-4a0e-8731-85f6bc52c8ee",
   "metadata": {},
   "outputs": [
    {
     "name": "stdout",
     "output_type": "stream",
     "text": [
      "+---+------+-----+\n",
      "|dep|gender|count|\n",
      "+---+------+-----+\n",
      "| IT|  male|    2|\n",
      "| HR|female|    1|\n",
      "| IT|female|    3|\n",
      "| HR|  male|    2|\n",
      "+---+------+-----+\n",
      "\n"
     ]
    }
   ],
   "source": [
    "df.groupBy('dep','gender').count().show()"
   ]
  },
  {
   "cell_type": "code",
   "execution_count": 82,
   "id": "cef5f837-c12d-4b5d-ade3-eac8dc4e3c7e",
   "metadata": {},
   "outputs": [
    {
     "name": "stdout",
     "output_type": "stream",
     "text": [
      "+---+------+----+\n",
      "|dep|female|male|\n",
      "+---+------+----+\n",
      "| HR|     1|   2|\n",
      "| IT|     3|   2|\n",
      "+---+------+----+\n",
      "\n"
     ]
    }
   ],
   "source": [
    "#implementing pivot on gender\n",
    "n1 = df.groupBy('dep').pivot('gender').count().show()"
   ]
  },
  {
   "cell_type": "code",
   "execution_count": 84,
   "id": "c7786131-2c82-4c3c-8819-06f977b0fd5c",
   "metadata": {},
   "outputs": [
    {
     "name": "stdout",
     "output_type": "stream",
     "text": [
      "+---+----+\n",
      "|dep|male|\n",
      "+---+----+\n",
      "| HR|   2|\n",
      "| IT|   2|\n",
      "+---+----+\n",
      "\n"
     ]
    }
   ],
   "source": [
    "df.groupBy('dep').pivot('gender',['male']).count().show()"
   ]
  },
  {
   "cell_type": "code",
   "execution_count": 88,
   "id": "40736d91-2cc1-4cb5-aa2e-be7d0ee8201a",
   "metadata": {},
   "outputs": [
    {
     "name": "stdout",
     "output_type": "stream",
     "text": [
      "+---+------+-----+\n",
      "|dep|gender|count|\n",
      "+---+------+-----+\n",
      "| HR|female|    1|\n",
      "| HR|  male|    2|\n",
      "| IT|female|    3|\n",
      "| IT|  male|    2|\n",
      "+---+------+-----+\n",
      "\n"
     ]
    }
   ],
   "source": [
    "#unpivot\n",
    "data = [\n",
    "    (\"HR\", 1, 2),\n",
    "    (\"IT\", 3, 2)\n",
    "]\n",
    "schema = [\"dep\", \"female\", \"male\"]\n",
    "df = spark.createDataFrame(data, schema)\n",
    "\n",
    "# Unpivot male and female\n",
    "unpivot_df = df.selectExpr(\n",
    "    \"dep\",\n",
    "    \"stack(2, 'female', female, 'male', male) as (gender, count)\"\n",
    ")\n",
    "\n",
    "# Show the result\n",
    "unpivot_df.show()\n"
   ]
  },
  {
   "cell_type": "code",
   "execution_count": null,
   "id": "7c56a282-e8a4-44e7-aae2-e75fb6c0df49",
   "metadata": {},
   "outputs": [],
   "source": []
  }
 ],
 "metadata": {
  "kernelspec": {
   "display_name": "Python 3 (ipykernel)",
   "language": "python",
   "name": "python3"
  },
  "language_info": {
   "codemirror_mode": {
    "name": "ipython",
    "version": 3
   },
   "file_extension": ".py",
   "mimetype": "text/x-python",
   "name": "python",
   "nbconvert_exporter": "python",
   "pygments_lexer": "ipython3",
   "version": "3.11.0"
  }
 },
 "nbformat": 4,
 "nbformat_minor": 5
}
