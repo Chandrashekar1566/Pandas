{
 "cells": [
  {
   "cell_type": "code",
   "execution_count": 2,
   "id": "bd48c651-879f-431e-aaec-63364a3985a2",
   "metadata": {},
   "outputs": [],
   "source": [
    "\n",
    "from pyspark.sql import SparkSession\n",
    "spark = SparkSession.builder \\\n",
    "    .appName(\"Example\") \\\n",
    "    .getOrCreate()"
   ]
  },
  {
   "cell_type": "code",
   "execution_count": 7,
   "id": "eb5c4fd2-b238-48a4-b984-fc5049a0d558",
   "metadata": {},
   "outputs": [
    {
     "name": "stdout",
     "output_type": "stream",
     "text": [
      "+---+\n",
      "| id|\n",
      "+---+\n",
      "|  1|\n",
      "|  2|\n",
      "|  3|\n",
      "|  4|\n",
      "|  5|\n",
      "|  6|\n",
      "|  7|\n",
      "|  8|\n",
      "|  9|\n",
      "| 10|\n",
      "| 11|\n",
      "| 12|\n",
      "| 13|\n",
      "| 14|\n",
      "| 15|\n",
      "| 16|\n",
      "| 17|\n",
      "| 18|\n",
      "| 19|\n",
      "+---+\n",
      "\n"
     ]
    }
   ],
   "source": [
    "df = spark.range(start =1 ,end =20)\n",
    "df.show()"
   ]
  },
  {
   "cell_type": "code",
   "execution_count": 17,
   "id": "fd6652e7-858e-47c8-837d-692ad2162686",
   "metadata": {},
   "outputs": [
    {
     "name": "stdout",
     "output_type": "stream",
     "text": [
      "+---+\n",
      "| id|\n",
      "+---+\n",
      "|  3|\n",
      "| 12|\n",
      "| 13|\n",
      "| 16|\n",
      "+---+\n",
      "\n"
     ]
    }
   ],
   "source": [
    "df1 = df.sample(fraction = 0.2)\n",
    "df1.show()"
   ]
  },
  {
   "cell_type": "code",
   "execution_count": 22,
   "id": "bbfe0043-b3ce-45f3-b2db-4dee8b52c5bd",
   "metadata": {},
   "outputs": [
    {
     "name": "stdout",
     "output_type": "stream",
     "text": [
      "+---+\n",
      "| id|\n",
      "+---+\n",
      "|  6|\n",
      "|  7|\n",
      "|  8|\n",
      "| 15|\n",
      "| 16|\n",
      "| 17|\n",
      "+---+\n",
      "\n"
     ]
    }
   ],
   "source": [
    "df2 = df.sample(fraction = 0.2,seed =1)\n",
    "\n",
    "df2.show()"
   ]
  },
  {
   "cell_type": "code",
   "execution_count": 21,
   "id": "c328a268-d6d4-4838-84bf-e3ac73e22958",
   "metadata": {},
   "outputs": [
    {
     "name": "stdout",
     "output_type": "stream",
     "text": [
      "+---+\n",
      "| id|\n",
      "+---+\n",
      "|  6|\n",
      "|  7|\n",
      "|  8|\n",
      "| 15|\n",
      "| 16|\n",
      "| 17|\n",
      "+---+\n",
      "\n"
     ]
    }
   ],
   "source": [
    "df3 = df.sample(fraction = 0.2,seed =1)\n",
    "df3.show()"
   ]
  },
  {
   "cell_type": "code",
   "execution_count": 24,
   "id": "7e4c2d86-f59c-46ad-af85-13967ab96d33",
   "metadata": {},
   "outputs": [
    {
     "name": "stdout",
     "output_type": "stream",
     "text": [
      "+---+------+------+------+----+\n",
      "| id|  name|gender|salary| dep|\n",
      "+---+------+------+------+----+\n",
      "|  1|Maheer|  male|  1000|NULL|\n",
      "|  2|   Asi|Female|  2000|  IT|\n",
      "+---+------+------+------+----+\n",
      "\n"
     ]
    }
   ],
   "source": [
    "#select\n",
    "data = [(1, 'Maheer', 'male', 1000, None), (2, 'Asi', 'Female', 2000, 'IT')]\n",
    "schema = ['id', 'name', 'gender', 'salary', 'dep']\n",
    "\n",
    "\n",
    "f = spark.createDataFrame(data, schema)\n",
    "f.show()"
   ]
  },
  {
   "cell_type": "code",
   "execution_count": 25,
   "id": "a579d111-a454-4a92-a446-b51f1b424a05",
   "metadata": {},
   "outputs": [
    {
     "name": "stdout",
     "output_type": "stream",
     "text": [
      "+------+\n",
      "|gender|\n",
      "+------+\n",
      "|  male|\n",
      "|Female|\n",
      "+------+\n",
      "\n"
     ]
    }
   ],
   "source": [
    "df1 = f.select('gender')\n",
    "df1.show()"
   ]
  },
  {
   "cell_type": "code",
   "execution_count": 26,
   "id": "43130d6a-8c90-4279-88c4-40a80e34a4f0",
   "metadata": {},
   "outputs": [
    {
     "name": "stdout",
     "output_type": "stream",
     "text": [
      "[Row(id=1, name='Maheer', gender='male', salary=1000, dep=None), Row(id=2, name='Asi', gender='Female', salary=2000, dep='IT')]\n"
     ]
    }
   ],
   "source": [
    "#collect\n",
    "list_row = f.collect()\n",
    "print(list_row)"
   ]
  },
  {
   "cell_type": "code",
   "execution_count": 27,
   "id": "0ad1cf7e-4f1b-4af8-9f8c-1526ca368d7c",
   "metadata": {},
   "outputs": [
    {
     "name": "stdout",
     "output_type": "stream",
     "text": [
      "Row(id=1, name='Maheer', gender='male', salary=1000, dep=None)\n"
     ]
    }
   ],
   "source": [
    "print(list_row[0])"
   ]
  },
  {
   "cell_type": "code",
   "execution_count": 28,
   "id": "7d9768a3-4d70-4e95-9377-135149e2ecec",
   "metadata": {},
   "outputs": [
    {
     "name": "stdout",
     "output_type": "stream",
     "text": [
      "Maheer\n"
     ]
    }
   ],
   "source": [
    "print(list_row[0][1])"
   ]
  },
  {
   "cell_type": "code",
   "execution_count": 29,
   "id": "f1ab47bf-eaaa-4fb2-b6ad-6d72cad0ed9d",
   "metadata": {},
   "outputs": [],
   "source": [
    "data = [(1, 'maheer', 2000), (2, 'wafa', 3000)]\n",
    "\n",
    "schema = ['id', 'name', 'salary']\n",
    "\n",
    "df = spark.createDataFrame(data, schema)"
   ]
  },
  {
   "cell_type": "code",
   "execution_count": 30,
   "id": "805bd795-3e2b-491e-9f72-9cbc0d7846a6",
   "metadata": {},
   "outputs": [
    {
     "name": "stdout",
     "output_type": "stream",
     "text": [
      "+---+------+------+\n",
      "| id|  name|salary|\n",
      "+---+------+------+\n",
      "|  1|maheer|  2000|\n",
      "|  2|  wafa|  3000|\n",
      "+---+------+------+\n",
      "\n"
     ]
    }
   ],
   "source": [
    "df.show()"
   ]
  },
  {
   "cell_type": "code",
   "execution_count": null,
   "id": "f4852112-0ce4-4aaa-93c7-fdb82a0f5d26",
   "metadata": {},
   "outputs": [],
   "source": []
  },
  {
   "cell_type": "code",
   "execution_count": 34,
   "id": "6f5e5078-ab85-4472-8f86-f2d1567118b6",
   "metadata": {},
   "outputs": [
    {
     "name": "stdout",
     "output_type": "stream",
     "text": [
      "+---+---------+---------------+\n",
      "| id|  numbers|updated_numbers|\n",
      "+---+---------+---------------+\n",
      "|  1|[1, 2, 3]|      [2, 3, 4]|\n",
      "|  2|[4, 5, 6]|      [5, 6, 7]|\n",
      "|  3|[7, 8, 9]|     [8, 9, 10]|\n",
      "+---+---------+---------------+\n",
      "\n"
     ]
    }
   ],
   "source": [
    "#transform\n",
    "from pyspark.sql.functions import col, transform\n",
    "data = [(1, [1, 2, 3]), (2, [4, 5, 6]), (3, [7, 8, 9])]\n",
    "schema = ['id', 'numbers']\n",
    "df = spark.createDataFrame(data, schema)\n",
    "\n",
    "# Use transform() to increment each element by 1\n",
    "df_transformed = df.withColumn(\"updated_numbers\", transform(col(\"numbers\"), lambda x: x + 1))\n",
    "\n",
    "df_transformed.show()"
   ]
  },
  {
   "cell_type": "code",
   "execution_count": 11,
   "id": "e584e1f9-cd03-4d12-badc-e034226da1de",
   "metadata": {},
   "outputs": [],
   "source": [
    "#UDF\n",
    "from pyspark.sql import SparkSession\n",
    "spark = SparkSession.builder \\\n",
    "    .appName(\"Example\") \\\n",
    "    .getOrCreate()\n"
   ]
  },
  {
   "cell_type": "code",
   "execution_count": 4,
   "id": "9470363c-97a9-46c2-9978-094684a2f055",
   "metadata": {},
   "outputs": [],
   "source": [
    "from pyspark.sql import SparkSession\n",
    "from pyspark.sql.functions import col, udf\n",
    "from pyspark.sql.types import IntegerType"
   ]
  },
  {
   "cell_type": "code",
   "execution_count": 5,
   "id": "44659cd0-e964-429a-bfbe-0ab9f8f43538",
   "metadata": {},
   "outputs": [
    {
     "name": "stdout",
     "output_type": "stream",
     "text": [
      "+---+------+------+-----+\n",
      "| id|  name|salary|bonus|\n",
      "+---+------+------+-----+\n",
      "|  1|maheer|  2000|  500|\n",
      "|  2|  wafa|  4000| 1000|\n",
      "+---+------+------+-----+\n",
      "\n"
     ]
    }
   ],
   "source": [
    "data = [(1, 'maheer', 2000, 500), (2, 'wafa', 4000, 1000)]\n",
    "schema = ['id', 'name', 'salary', 'bonus']\n",
    "\n",
    "df = spark.createDataFrame(data, schema)\n",
    "df.show()"
   ]
  },
  {
   "cell_type": "code",
   "execution_count": 6,
   "id": "c0791c4c-29c4-495a-b18e-00f368e5417e",
   "metadata": {},
   "outputs": [],
   "source": [
    "# Define a UDF to calculate total pay\n",
    "@udf(returnType=IntegerType())\n",
    "def totalPay(s, b):\n",
    "    return s + b"
   ]
  },
  {
   "cell_type": "code",
   "execution_count": 9,
   "id": "5e5554ac-9a56-478c-a117-10300936383e",
   "metadata": {},
   "outputs": [
    {
     "name": "stdout",
     "output_type": "stream",
     "text": [
      "+---+------+------+-----+--------+\n",
      "| id|  name|salary|bonus|totalPay|\n",
      "+---+------+------+-----+--------+\n",
      "|  1|maheer|  2000|  500|    2500|\n",
      "|  2|  wafa|  4000| 1000|    5000|\n",
      "+---+------+------+-----+--------+\n",
      "\n"
     ]
    }
   ],
   "source": [
    "#UDF SELECT\n",
    "df.select('*',totalPay(col('salary'), col('bonus')).alias('totalPay')).show()"
   ]
  },
  {
   "cell_type": "code",
   "execution_count": null,
   "id": "a261b558-c849-4a03-a28f-27997d802bfa",
   "metadata": {},
   "outputs": [],
   "source": [
    "#RDD"
   ]
  },
  {
   "cell_type": "code",
   "execution_count": null,
   "id": "32fcf254-566e-40d7-960f-6f41fb2382fb",
   "metadata": {},
   "outputs": [],
   "source": []
  }
 ],
 "metadata": {
  "kernelspec": {
   "display_name": "Python 3 (ipykernel)",
   "language": "python",
   "name": "python3"
  },
  "language_info": {
   "codemirror_mode": {
    "name": "ipython",
    "version": 3
   },
   "file_extension": ".py",
   "mimetype": "text/x-python",
   "name": "python",
   "nbconvert_exporter": "python",
   "pygments_lexer": "ipython3",
   "version": "3.11.0"
  }
 },
 "nbformat": 4,
 "nbformat_minor": 5
}
