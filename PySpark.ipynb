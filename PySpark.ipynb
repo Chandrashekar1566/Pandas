{
 "cells": [
  {
   "cell_type": "code",
   "execution_count": 1,
   "id": "7cbfdf35-5151-47ac-94e9-802351c151a7",
   "metadata": {},
   "outputs": [],
   "source": [
    "from pyspark.sql import SparkSession"
   ]
  },
  {
   "cell_type": "code",
   "execution_count": 2,
   "id": "a0667e48-f9d2-41e1-b1ad-5ca5d1df431a",
   "metadata": {},
   "outputs": [],
   "source": [
    "spark = SparkSession.builder.appName('Practice2').getOrCreate()"
   ]
  },
  {
   "cell_type": "code",
   "execution_count": 3,
   "id": "5266ae50-4e64-4a1a-bc80-5ae27e427bbf",
   "metadata": {},
   "outputs": [
    {
     "data": {
      "text/html": [
       "\n",
       "            <div>\n",
       "                <p><b>SparkSession - in-memory</b></p>\n",
       "                \n",
       "        <div>\n",
       "            <p><b>SparkContext</b></p>\n",
       "\n",
       "            <p><a href=\"http://CHAR:4041\">Spark UI</a></p>\n",
       "\n",
       "            <dl>\n",
       "              <dt>Version</dt>\n",
       "                <dd><code>v3.5.2</code></dd>\n",
       "              <dt>Master</dt>\n",
       "                <dd><code>local[*]</code></dd>\n",
       "              <dt>AppName</dt>\n",
       "                <dd><code>Practice2</code></dd>\n",
       "            </dl>\n",
       "        </div>\n",
       "        \n",
       "            </div>\n",
       "        "
      ],
      "text/plain": [
       "<pyspark.sql.session.SparkSession at 0x2877af727d0>"
      ]
     },
     "execution_count": 3,
     "metadata": {},
     "output_type": "execute_result"
    }
   ],
   "source": [
    "spark"
   ]
  },
  {
   "cell_type": "code",
   "execution_count": 7,
   "id": "9fcf77d6-2827-4114-98f4-4fe35aad0eb2",
   "metadata": {},
   "outputs": [],
   "source": [
    "df_spark = spark.read.option('header','true').csv(r\"E:\\CSV File\\pyspark3.csv\")"
   ]
  },
  {
   "cell_type": "code",
   "execution_count": 8,
   "id": "73c42240-f7fe-41e2-a048-4d76bc5321be",
   "metadata": {},
   "outputs": [
    {
     "name": "stdout",
     "output_type": "stream",
     "text": [
      "+-----+---+----------+\n",
      "| Name|age|Experience|\n",
      "+-----+---+----------+\n",
      "|krish| 43|        21|\n",
      "|tyson| 12|         0|\n",
      "|tonny| 67|        45|\n",
      "+-----+---+----------+\n",
      "\n"
     ]
    }
   ],
   "source": [
    "df_spark.show()"
   ]
  },
  {
   "cell_type": "code",
   "execution_count": 10,
   "id": "c7934676-2019-4439-ac2b-ac02fc75bcef",
   "metadata": {},
   "outputs": [
    {
     "name": "stdout",
     "output_type": "stream",
     "text": [
      "+-----+---+----------+\n",
      "| Name|age|Experience|\n",
      "+-----+---+----------+\n",
      "|krish| 43|        21|\n",
      "|tyson| 12|         0|\n",
      "|tonny| 67|        45|\n",
      "+-----+---+----------+\n",
      "\n"
     ]
    }
   ],
   "source": [
    "df_spark = spark.read.csv(r\"E:\\CSV File\\pyspark3.csv\",header = True,inferSchema = True)\n",
    "df_spark.show()"
   ]
  },
  {
   "cell_type": "code",
   "execution_count": 11,
   "id": "5f730bde-0e60-46a3-b725-c4a56e5410c6",
   "metadata": {},
   "outputs": [
    {
     "name": "stdout",
     "output_type": "stream",
     "text": [
      "root\n",
      " |-- Name: string (nullable = true)\n",
      " |-- age: integer (nullable = true)\n",
      " |-- Experience: integer (nullable = true)\n",
      "\n"
     ]
    }
   ],
   "source": [
    "df_spark.printSchema()"
   ]
  },
  {
   "cell_type": "code",
   "execution_count": 12,
   "id": "2ec23084-07c9-49ab-862a-55125a6bd30d",
   "metadata": {},
   "outputs": [
    {
     "data": {
      "text/plain": [
       "pyspark.sql.dataframe.DataFrame"
      ]
     },
     "execution_count": 12,
     "metadata": {},
     "output_type": "execute_result"
    }
   ],
   "source": [
    "type(df_spark)"
   ]
  },
  {
   "cell_type": "code",
   "execution_count": 13,
   "id": "baf6148e-b167-49d2-b833-73d0a9d59051",
   "metadata": {},
   "outputs": [
    {
     "data": {
      "text/plain": [
       "['Name', 'age', 'Experience']"
      ]
     },
     "execution_count": 13,
     "metadata": {},
     "output_type": "execute_result"
    }
   ],
   "source": [
    "df_spark.columns"
   ]
  },
  {
   "cell_type": "code",
   "execution_count": 14,
   "id": "64b956c0-e42e-4584-aa45-667c68f01d46",
   "metadata": {},
   "outputs": [
    {
     "data": {
      "text/plain": [
       "[Row(Name='krish', age=43, Experience=21),\n",
       " Row(Name='tyson', age=12, Experience=0),\n",
       " Row(Name='tonny', age=67, Experience=45)]"
      ]
     },
     "execution_count": 14,
     "metadata": {},
     "output_type": "execute_result"
    }
   ],
   "source": [
    "df_spark.head(3)"
   ]
  },
  {
   "cell_type": "code",
   "execution_count": 15,
   "id": "b24f4b8f-268c-4471-99be-3a280dbf5b87",
   "metadata": {},
   "outputs": [
    {
     "name": "stdout",
     "output_type": "stream",
     "text": [
      "+-----+---+----------+\n",
      "| Name|age|Experience|\n",
      "+-----+---+----------+\n",
      "|krish| 43|        21|\n",
      "|tyson| 12|         0|\n",
      "|tonny| 67|        45|\n",
      "+-----+---+----------+\n",
      "\n"
     ]
    }
   ],
   "source": [
    "df_spark.show()"
   ]
  },
  {
   "cell_type": "markdown",
   "id": "a5ff35d3-0567-4613-8386-42ca6d5ac273",
   "metadata": {},
   "source": [
    "selcting particular columns"
   ]
  },
  {
   "cell_type": "code",
   "execution_count": 17,
   "id": "b7736a0f-07a6-47ca-8360-5b2421db7a4f",
   "metadata": {},
   "outputs": [
    {
     "data": {
      "text/plain": [
       "DataFrame[Name: string]"
      ]
     },
     "execution_count": 17,
     "metadata": {},
     "output_type": "execute_result"
    }
   ],
   "source": [
    "df_spark.select('Name')"
   ]
  },
  {
   "cell_type": "code",
   "execution_count": 18,
   "id": "2e5dc489-cba9-4fa2-a147-0755768ea79d",
   "metadata": {},
   "outputs": [
    {
     "name": "stdout",
     "output_type": "stream",
     "text": [
      "+-----+\n",
      "| Name|\n",
      "+-----+\n",
      "|krish|\n",
      "|tyson|\n",
      "|tonny|\n",
      "+-----+\n",
      "\n"
     ]
    }
   ],
   "source": [
    "df_spark.select('Name').show()"
   ]
  },
  {
   "cell_type": "code",
   "execution_count": 20,
   "id": "ebff072b-ee70-43f7-9244-b02c5cb94b81",
   "metadata": {},
   "outputs": [
    {
     "name": "stdout",
     "output_type": "stream",
     "text": [
      "+-----+----------+\n",
      "| Name|Experience|\n",
      "+-----+----------+\n",
      "|krish|        21|\n",
      "|tyson|         0|\n",
      "|tonny|        45|\n",
      "+-----+----------+\n",
      "\n"
     ]
    }
   ],
   "source": [
    "df_spark.select(['Name','Experience']).show()"
   ]
  },
  {
   "cell_type": "code",
   "execution_count": 22,
   "id": "01bb01df-9ebe-47da-8fea-f9c22e41e1b8",
   "metadata": {},
   "outputs": [],
   "source": [
    "df_spark = df_spark.withColumn(\"exp after 2 years\",df_spark['Experience']+2)"
   ]
  },
  {
   "cell_type": "code",
   "execution_count": 23,
   "id": "5ba82ea2-d319-4a88-b0f5-e3f34a35c770",
   "metadata": {},
   "outputs": [
    {
     "name": "stdout",
     "output_type": "stream",
     "text": [
      "+-----+---+----------+-----------------+\n",
      "| Name|age|Experience|exp after 2 years|\n",
      "+-----+---+----------+-----------------+\n",
      "|krish| 43|        21|               23|\n",
      "|tyson| 12|         0|                2|\n",
      "|tonny| 67|        45|               47|\n",
      "+-----+---+----------+-----------------+\n",
      "\n"
     ]
    }
   ],
   "source": [
    "df_spark.show()"
   ]
  },
  {
   "cell_type": "markdown",
   "id": "6ca9737f-2cff-41cb-bea7-63025e1093b9",
   "metadata": {},
   "source": [
    "droping columns"
   ]
  },
  {
   "cell_type": "code",
   "execution_count": 24,
   "id": "084436c8-d6ca-4cdd-b8b6-26432a124c66",
   "metadata": {},
   "outputs": [],
   "source": [
    "df_spark = df_spark.drop('exp after 2 years')"
   ]
  },
  {
   "cell_type": "code",
   "execution_count": 25,
   "id": "c665b1e8-b652-4159-abd3-4b766658c03f",
   "metadata": {},
   "outputs": [
    {
     "name": "stdout",
     "output_type": "stream",
     "text": [
      "+-----+---+----------+\n",
      "| Name|age|Experience|\n",
      "+-----+---+----------+\n",
      "|krish| 43|        21|\n",
      "|tyson| 12|         0|\n",
      "|tonny| 67|        45|\n",
      "+-----+---+----------+\n",
      "\n"
     ]
    }
   ],
   "source": [
    "df_spark.show()\n"
   ]
  },
  {
   "cell_type": "code",
   "execution_count": 26,
   "id": "70c134e0-2dd8-4212-ad08-3fb326af3070",
   "metadata": {},
   "outputs": [],
   "source": [
    "df_spark = df_spark.withColumnRenamed('Name','New Name')"
   ]
  },
  {
   "cell_type": "code",
   "execution_count": 27,
   "id": "e6cf75c7-157e-47f1-ab5c-9eec12d872b4",
   "metadata": {},
   "outputs": [
    {
     "name": "stdout",
     "output_type": "stream",
     "text": [
      "+--------+---+----------+\n",
      "|New Name|age|Experience|\n",
      "+--------+---+----------+\n",
      "|   krish| 43|        21|\n",
      "|   tyson| 12|         0|\n",
      "|   tonny| 67|        45|\n",
      "+--------+---+----------+\n",
      "\n"
     ]
    }
   ],
   "source": [
    "df_spark.show()"
   ]
  },
  {
   "cell_type": "code",
   "execution_count": null,
   "id": "5df56ab8-fd63-4f4a-9a23-8c785e0ad368",
   "metadata": {},
   "outputs": [],
   "source": []
  }
 ],
 "metadata": {
  "kernelspec": {
   "display_name": "Python 3 (ipykernel)",
   "language": "python",
   "name": "python3"
  },
  "language_info": {
   "codemirror_mode": {
    "name": "ipython",
    "version": 3
   },
   "file_extension": ".py",
   "mimetype": "text/x-python",
   "name": "python",
   "nbconvert_exporter": "python",
   "pygments_lexer": "ipython3",
   "version": "3.11.0"
  }
 },
 "nbformat": 4,
 "nbformat_minor": 5
}
