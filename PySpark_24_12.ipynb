{
 "cells": [
  {
   "cell_type": "code",
   "execution_count": 22,
   "id": "a1be5b4d-96e5-4d9a-91ed-f091f013a74c",
   "metadata": {},
   "outputs": [],
   "source": [
    "from pyspark.sql import SparkSession"
   ]
  },
  {
   "cell_type": "code",
   "execution_count": 23,
   "id": "a529b68c-d8c3-4597-8a42-2ecddaea0bd9",
   "metadata": {},
   "outputs": [],
   "source": [
    "spark = SparkSession.builder.appName('Handling Values').getOrCreate()"
   ]
  },
  {
   "cell_type": "code",
   "execution_count": 24,
   "id": "773dc348-3c80-47dd-900b-89c5a508d2e6",
   "metadata": {},
   "outputs": [],
   "source": [
    "df_spark = spark.read.csv(r\"E:\\CSV File\\Handling_values.csv\",header = True,inferSchema = True)"
   ]
  },
  {
   "cell_type": "code",
   "execution_count": 25,
   "id": "3e0f07b2-1cb8-4cee-9075-3d6a04b76461",
   "metadata": {},
   "outputs": [
    {
     "name": "stdout",
     "output_type": "stream",
     "text": [
      "+-------+----+----------+------+\n",
      "|  Name | Age|Experience|Salary|\n",
      "+-------+----+----------+------+\n",
      "| mahesh|  22|         2| 30000|\n",
      "|  gnana|  22|         0| 20000|\n",
      "| girish|  34|         2| 45000|\n",
      "|darshan|  25|         2| 40000|\n",
      "|   jhon|  24|      NULL| 27000|\n",
      "|    raj|NULL|         1| 25000|\n",
      "|   NULL|  20|         1|  9000|\n",
      "|   NULL|  30|         3|100000|\n",
      "|    joy|NULL|      NULL|  NULL|\n",
      "+-------+----+----------+------+\n",
      "\n"
     ]
    }
   ],
   "source": [
    "df_spark.show()"
   ]
  },
  {
   "cell_type": "code",
   "execution_count": 26,
   "id": "77e74d0a-2b61-424a-8b5b-1cf30cb8729d",
   "metadata": {},
   "outputs": [
    {
     "name": "stdout",
     "output_type": "stream",
     "text": [
      "+-------+---+----------+------+\n",
      "|  Name |Age|Experience|Salary|\n",
      "+-------+---+----------+------+\n",
      "| mahesh| 22|         2| 30000|\n",
      "|  gnana| 22|         0| 20000|\n",
      "| girish| 34|         2| 45000|\n",
      "|darshan| 25|         2| 40000|\n",
      "+-------+---+----------+------+\n",
      "\n"
     ]
    }
   ],
   "source": [
    "df_spark.na.drop().show()"
   ]
  },
  {
   "cell_type": "code",
   "execution_count": 27,
   "id": "c3624985-e94c-4cef-bb00-3ff0128d8d5c",
   "metadata": {},
   "outputs": [
    {
     "name": "stdout",
     "output_type": "stream",
     "text": [
      "+-------+----+----------+------+\n",
      "|  Name | Age|Experience|Salary|\n",
      "+-------+----+----------+------+\n",
      "| mahesh|  22|         2| 30000|\n",
      "|  gnana|  22|         0| 20000|\n",
      "| girish|  34|         2| 45000|\n",
      "|darshan|  25|         2| 40000|\n",
      "|   jhon|  24|      NULL| 27000|\n",
      "|    raj|NULL|         1| 25000|\n",
      "|   NULL|  20|         1|  9000|\n",
      "|   NULL|  30|         3|100000|\n",
      "|    joy|NULL|      NULL|  NULL|\n",
      "+-------+----+----------+------+\n",
      "\n"
     ]
    }
   ],
   "source": [
    "df_spark.na.drop(how = 'all').show()"
   ]
  },
  {
   "cell_type": "code",
   "execution_count": 28,
   "id": "2a40f4c9-76d0-4416-b09c-808f0aa8c670",
   "metadata": {},
   "outputs": [
    {
     "name": "stdout",
     "output_type": "stream",
     "text": [
      "+-------+---+----------+------+\n",
      "|  Name |Age|Experience|Salary|\n",
      "+-------+---+----------+------+\n",
      "| mahesh| 22|         2| 30000|\n",
      "|  gnana| 22|         0| 20000|\n",
      "| girish| 34|         2| 45000|\n",
      "|darshan| 25|         2| 40000|\n",
      "+-------+---+----------+------+\n",
      "\n"
     ]
    }
   ],
   "source": [
    "df_spark.na.drop(how = 'any').show()"
   ]
  },
  {
   "cell_type": "code",
   "execution_count": 32,
   "id": "cdfed7e2-e8eb-42ce-bc01-7ca8bc8f2b97",
   "metadata": {},
   "outputs": [
    {
     "name": "stdout",
     "output_type": "stream",
     "text": [
      "+-------+----+----------+------+\n",
      "|  Name | Age|Experience|Salary|\n",
      "+-------+----+----------+------+\n",
      "| mahesh|  22|         2| 30000|\n",
      "|  gnana|  22|         0| 20000|\n",
      "| girish|  34|         2| 45000|\n",
      "|darshan|  25|         2| 40000|\n",
      "|   jhon|  24|      NULL| 27000|\n",
      "|    raj|NULL|         1| 25000|\n",
      "|   NULL|  20|         1|  9000|\n",
      "|   NULL|  30|         3|100000|\n",
      "+-------+----+----------+------+\n",
      "\n"
     ]
    }
   ],
   "source": [
    "df_spark.na.drop(how = 'all',thresh = 3).show()"
   ]
  },
  {
   "cell_type": "code",
   "execution_count": 39,
   "id": "b5e0e5a3-b3fe-4e69-a7aa-bb6d39e9c5f5",
   "metadata": {},
   "outputs": [
    {
     "name": "stdout",
     "output_type": "stream",
     "text": [
      "+-------+----+----------+------+\n",
      "|  Name | Age|Experience|Salary|\n",
      "+-------+----+----------+------+\n",
      "| mahesh|  22|         2| 30000|\n",
      "|  gnana|  22|         0| 20000|\n",
      "| girish|  34|         2| 45000|\n",
      "|darshan|  25|         2| 40000|\n",
      "|   jhon|  24|      NULL| 27000|\n",
      "|    raj|NULL|         1| 25000|\n",
      "|   NULL|  20|         1|  9000|\n",
      "|   NULL|  30|         3|100000|\n",
      "+-------+----+----------+------+\n",
      "\n"
     ]
    }
   ],
   "source": [
    "df_spark.na.drop(how = 'any',thresh = 3).show()"
   ]
  },
  {
   "cell_type": "code",
   "execution_count": 40,
   "id": "d4941ceb-b104-40d9-83cb-c513c989340a",
   "metadata": {},
   "outputs": [
    {
     "name": "stdout",
     "output_type": "stream",
     "text": [
      "+-------+---+----------+------+\n",
      "|  Name |Age|Experience|Salary|\n",
      "+-------+---+----------+------+\n",
      "| mahesh| 22|         2| 30000|\n",
      "|  gnana| 22|         0| 20000|\n",
      "| girish| 34|         2| 45000|\n",
      "|darshan| 25|         2| 40000|\n",
      "|   jhon| 24|      NULL| 27000|\n",
      "|   NULL| 20|         1|  9000|\n",
      "|   NULL| 30|         3|100000|\n",
      "+-------+---+----------+------+\n",
      "\n"
     ]
    }
   ],
   "source": [
    "#subset\n",
    "df_spark.na.drop(how ='any',subset =['Age']).show()"
   ]
  },
  {
   "cell_type": "markdown",
   "id": "6cfbf4d1-9bcd-4a56-97af-3b4cf9baa7fd",
   "metadata": {},
   "source": [
    "Filling missing values"
   ]
  },
  {
   "cell_type": "code",
   "execution_count": 41,
   "id": "db12cc98-d3d3-4f1f-9c0b-785d9f6a1e35",
   "metadata": {},
   "outputs": [],
   "source": [
    "from pyspark.ml.feature import Imputer"
   ]
  },
  {
   "cell_type": "code",
   "execution_count": null,
   "id": "0e788f74-d595-4218-b64f-86548b536e5e",
   "metadata": {},
   "outputs": [],
   "source": []
  },
  {
   "cell_type": "code",
   "execution_count": 55,
   "id": "4480159c-1b02-47cc-866e-fc20d6d3b72c",
   "metadata": {},
   "outputs": [],
   "source": [
    "imputer = Imputer(\n",
    "    inputCols=[\"Age\", \"Experience\", \"Salary\"],  # Only numeric columns\n",
    "    outputCols=[\"Age_imputed\", \"Experience_imputed\", \"Salary_imputed\"]\n",
    ").setStrategy(\"mean\")"
   ]
  },
  {
   "cell_type": "code",
   "execution_count": 56,
   "id": "bd74c81c-3574-4f4f-b8dd-243ff41db25d",
   "metadata": {},
   "outputs": [],
   "source": [
    "df_imputed = imputer.fit(df_spark).transform(df_spark)"
   ]
  },
  {
   "cell_type": "code",
   "execution_count": 57,
   "id": "454e1a19-041f-439b-bdc2-f51bb62c8a07",
   "metadata": {},
   "outputs": [
    {
     "name": "stdout",
     "output_type": "stream",
     "text": [
      "+-------+----+----------+------+-----------+------------------+--------------+\n",
      "|  Name | Age|Experience|Salary|Age_imputed|Experience_imputed|Salary_imputed|\n",
      "+-------+----+----------+------+-----------+------------------+--------------+\n",
      "| mahesh|  22|         2| 30000|         22|                 2|         30000|\n",
      "|  gnana|  22|         0| 20000|         22|                 0|         20000|\n",
      "| girish|  34|         2| 45000|         34|                 2|         45000|\n",
      "|darshan|  25|         2| 40000|         25|                 2|         40000|\n",
      "|   jhon|  24|      NULL| 27000|         24|                 1|         27000|\n",
      "|    raj|NULL|         1| 25000|         25|                 1|         25000|\n",
      "|   NULL|  20|         1|  9000|         20|                 1|          9000|\n",
      "|   NULL|  30|         3|100000|         30|                 3|        100000|\n",
      "|    joy|NULL|      NULL|  NULL|         25|                 1|         37000|\n",
      "+-------+----+----------+------+-----------+------------------+--------------+\n",
      "\n"
     ]
    }
   ],
   "source": [
    "df_imputed.show()"
   ]
  },
  {
   "cell_type": "code",
   "execution_count": null,
   "id": "f427e161-8c57-4d28-a9c9-830db990e37d",
   "metadata": {},
   "outputs": [],
   "source": []
  }
 ],
 "metadata": {
  "kernelspec": {
   "display_name": "Python 3 (ipykernel)",
   "language": "python",
   "name": "python3"
  },
  "language_info": {
   "codemirror_mode": {
    "name": "ipython",
    "version": 3
   },
   "file_extension": ".py",
   "mimetype": "text/x-python",
   "name": "python",
   "nbconvert_exporter": "python",
   "pygments_lexer": "ipython3",
   "version": "3.11.0"
  }
 },
 "nbformat": 4,
 "nbformat_minor": 5
}
